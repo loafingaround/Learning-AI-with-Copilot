{
 "cells": [
  {
   "attachments": {},
   "cell_type": "markdown",
   "metadata": {},
   "source": [
    "# Computer Vision Fundamentals\n",
    "\n",
    "By using the provided questions, we can leverage GitHub Copilot's assistance in answering (and learning) the topic at hand. Pressing `ENTER` at the end of each question, followed by pressing the `Tab` key once the CoPilot suggestion pops up, will carry out the demo as shown in the videos."
   ]
  },
  {
   "attachments": {},
   "cell_type": "markdown",
   "metadata": {},
   "source": [
    "### What is Computer Vision?"
   ]
  },
  {
   "cell_type": "code",
   "execution_count": null,
   "metadata": {},
   "outputs": [],
   "source": [
    "#Q: What is a basic definition of Computer Vision?\n",
    "# A: Computer Vision is the field of study that seeks to develop techniques to help computers “see”\n",
    "# and understand the content of digital images such as photographs and videos.\n",
    "\n",
    "#Q: And how are machine learning and AI used in Computer Vision?\n",
    "# A: Machine learning and AI are used to train computers to recognize patterns in the images and videos.\n",
    "\n",
    "#Q: What machine learning structure is most commonly used in Computer Vision?\n",
    "# A: Convolutional Neural Networks (CNNs) are the most commonly used structure in Computer Vision."
   ]
  },
  {
   "attachments": {},
   "cell_type": "markdown",
   "metadata": {},
   "source": [
    "### What is a Neural Network?"
   ]
  },
  {
   "cell_type": "code",
   "execution_count": null,
   "metadata": {},
   "outputs": [],
   "source": [
    "#Q: What is a Neural Network?\n",
    "#A: A neural network is a computational model that is inspired by the way biological neural networks in the human brain process information.\n",
    "# The key element of this paradigm is the novel structure of the information processing system. It is composed of a large number of highly interconnected processing elements (neurones) working in unison to solve specific problems. A neural network is a massively parallel distributed processor made up of simple processing units, which has a natural propensity for storing experiential knowledge and making it available for use. It resembles the brain in two respects:\n",
    "# 1. Knowledge is acquired by the network from its environment through a learning process.\n",
    "# 2. Interneuron connection strengths, known as synaptic weights, are used to store the acquired knowledge.\n",
    "\n",
    "#Q: What differentiates a convolutional neural network from a regular neural network?\n",
    "#A: Convolutional Neural Networks are very similar to ordinary Neural Networks from the previous chapter:\n",
    "# they are made up of neurons that have learnable weights and biases. Each neuron receives some inputs, performs\n",
    "# a dot product and optionally follows it with a non-linearity. The whole network still expresses a single differentiable\n",
    "# score function: from the raw image pixels on one end to class scores at the other. And they still have a loss function\n",
    "# (e.g. SVM/Softmax) on the last (fully-connected) layer and all the tips/tricks we developed for learning regular\n",
    "# Neural Networks still apply.\n",
    "# So what changes? ConvNet architectures make the explicit assumption that the inputs are images, which allows us to\n",
    "# encode certain properties into the architecture. These then make the forward function more efficient to implement\n",
    "# and vastly reduce the amount of parameters in the network.\n",
    "\n",
    "#Q: What tools are most commonly used to work with Convolutional Neural Networks?\n",
    "#A: Tensorflow, Keras, PyTorch, Caffe, Caffe2, MXNet, CNTK, Theano, Torch, DeepLearning4J, Chainer, PaddlePaddle, etc."
   ]
  },
  {
   "attachments": {},
   "cell_type": "markdown",
   "metadata": {},
   "source": [
    "### PyTorch"
   ]
  },
  {
   "cell_type": "code",
   "execution_count": null,
   "metadata": {},
   "outputs": [],
   "source": [
    "#Q What is PyTorch?\n",
    "#A: It’s a Python-based scientific computing package targeted at two sets of audiences:\n",
    "#   a replacement for NumPy to use the power of GPUs, and a deep learning research platform that provides maximum flexibility and speed.\n",
    "\n",
    "\n",
    "#Q: What is a tensor?\n",
    "#A: Tensor is a generalization of vectors and matrices and is easily understood as a multidimensional array.\n",
    "# For example, in the image below we have tensors of rank 1 to 3 (note that the rank of a tensor is not related to its shape):\n",
    "# Tensors can be created from Python lists with the torch.tensor() function.\n",
    "# Note that the elements of the list must be numbers, not strings.\n",
    "# Once created, the size of a tensor is immutable.\n",
    "# The torch.Size is in fact a tuple, so it supports the same operations.\n",
    "# Size is also the shape of the tensor.\n",
    "# We can get its length, and we can also pass it to NumPy functions.\n",
    "# In PyTorch, we can change the shape of a tensor anytime, as long as the number of elements remains the same.\n",
    "# We can use .view() to reshape a tensor.\n",
    "# -1 is a special value which means “infer the number of elements in that dimension from the data”."
   ]
  }
 ],
 "metadata": {
  "language_info": {
   "name": "python"
  },
  "orig_nbformat": 4
 },
 "nbformat": 4,
 "nbformat_minor": 2
}
