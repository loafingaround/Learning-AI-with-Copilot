{
 "cells": [
  {
   "attachments": {},
   "cell_type": "markdown",
   "metadata": {},
   "source": [
    "## Machine Learning Fundamentals\n",
    "\n",
    "By using the provided questions, we can leverage GitHub Copilot's assistance in answering (and learning) the topic at hand. Pressing `ENTER` at the end of each question, followed by pressing the `Tab` key once the CoPilot suggestion pops up, will carry out the demo as shown in the videos."
   ]
  },
  {
   "cell_type": "code",
   "execution_count": 1,
   "metadata": {},
   "outputs": [],
   "source": [
    "# q: What is Machine Learning?\n",
    "\n",
    "# replace this comment with a prompt for Copilot that starts with \"create a challenge for a student\" to get useful suggestions\n",
    "# q: What is machine learning?\n",
    "# a: Machine learning is the study of computer algorithms that improve automatically through experience and by the use of data. It is seen as a subset of artificial intelligence.\n",
    "\n",
    "# q: What do you mean by \"improve automatically through experience\"?\n",
    "# a: Machine learning algorithms build a mathematical model based on sample data, known as \"training data\", in order to make predictions or decisions without being explicitly programmed to do so.\n"
   ]
  },
  {
   "attachments": {},
   "cell_type": "markdown",
   "metadata": {},
   "source": [
    "### Supervised Learning"
   ]
  },
  {
   "cell_type": "code",
   "execution_count": null,
   "metadata": {},
   "outputs": [],
   "source": [
    "# q: What is Supervised Learning?\n",
    "# a: Supervised learning is the machine learning task of learning a function that maps an input to an output based on example input-output pairs.\n",
    "# It infers a function from labeled training data consisting of a set of training examples.\n",
    "# In supervised learning, each example is a pair consisting of an input object (typically a vector) and a desired output value (also called the supervisory signal)."
   ]
  },
  {
   "cell_type": "code",
   "execution_count": null,
   "metadata": {},
   "outputs": [],
   "source": [
    "# q: What are examples of supervised learning?\n",
    "# a: Some examples of supervised learning are:\n",
    "#   - classification, regression, and anomaly detection.\n",
    "#   - Given email labeled as spam/not spam, learn a spam filter.\n",
    "#   - Given a picture, recognize the digit in the picture.\n",
    "#   - Given a list of movies a user watched and their personal rating of the movie, recommend movies they would like.\n",
    "#   - Given a patients gene expression levels, learn to predict if they have a tumor.\n",
    "#   - Given a video of a soccer game, estimate the position of the players and the ball over time.\n",
    "#   - Given a dataset of patients diagnosed as either having diabetes or not, learn to classify new patients as having diabetes or not.\n",
    "#   - Given a dataset of tweets and their sentiment, learn to classify new tweets as positive or negative.\n",
    "#   - Given a dataset of credit card transactions, learn to identify fraudulent transactions.\n",
    "#   - Given a dataset of patients diagnosed with a tumor, learn to predict the tumor size.\n",
    "#   - Given someones browsing behavior on the internet, learn to classify them as a bot or human."
   ]
  },
  {
   "attachments": {},
   "cell_type": "markdown",
   "metadata": {},
   "source": [
    "### Training a model"
   ]
  },
  {
   "cell_type": "code",
   "execution_count": null,
   "metadata": {},
   "outputs": [],
   "source": [
    "# q: What is a label and what is a feature?\n",
    "# a: A label is the thing we're predicting, and a feature is an input variable describing our data."
   ]
  },
  {
   "cell_type": "code",
   "execution_count": null,
   "metadata": {},
   "outputs": [],
   "source": [
    "# q: What is a training set and a test set?\n",
    "# a: A training set is data that we use to train our model. A test set is data that we use to test our model, and this data is not part of the training data."
   ]
  },
  {
   "attachments": {},
   "cell_type": "markdown",
   "metadata": {},
   "source": [
    "### Evaluating a model"
   ]
  },
  {
   "cell_type": "code",
   "execution_count": null,
   "metadata": {},
   "outputs": [],
   "source": [
    "# q: What does it mean to evaluate a model?\n",
    "# a: To evaluate a model is to test it on data that it has not seen before in order to determine how well it generalizes to new data.\n",
    "# q: Do you have any more details on that?\n",
    "# a: Sure.  The data that we use to train a model is called the training data.  The data that we use to evaluate a model is called the test data.  The test data is a set of data that the model has not seen before.  We use the test data to determine how well the model generalizes to new data.  If the model performs well on the test data, then we can be confident that it will perform well on new data.  If the model performs poorly on the test data, then we can be confident that it will perform poorly on new data.\n",
    "\n",
    "# What is a classification model?\n",
    "# A classification model is a model that predicts a categorical label.  For example, a model that predicts whether an email is spam or not spam is a classification model.  A model that predicts whether a tumor is malignant or benign is a classification model.  A model that predicts whether a customer will churn or not churn is a classification model.\n",
    "\n",
    "# q: How can we measure accuracy of a model?\n",
    "# a: We can measure accuracy of a model by computing the percentage of test data that the model classifies correctly.\n",
    "# For example, if we have 100 test data points and the model classifies 80 of them correctly, then the model has an accuracy of 80%."
   ]
  }
 ],
 "metadata": {
  "kernelspec": {
   "display_name": "venv",
   "language": "python",
   "name": "python3"
  },
  "language_info": {
   "codemirror_mode": {
    "name": "ipython",
    "version": 3
   },
   "file_extension": ".py",
   "mimetype": "text/x-python",
   "name": "python",
   "nbconvert_exporter": "python",
   "pygments_lexer": "ipython3",
   "version": "3.8.16"
  },
  "orig_nbformat": 4
 },
 "nbformat": 4,
 "nbformat_minor": 2
}
